{
 "cells": [
  {
   "cell_type": "code",
   "execution_count": null,
   "id": "0beb23d4",
   "metadata": {},
   "outputs": [],
   "source": [
    "using Distances, LinearAlgebra, Random, Statistics, Distributions\n",
    "include(\"KernelQuantile.jl\")\n",
    "include(\"KernelUtils.jl\")\n",
    "include(\"KernelLogistic.jl\")\n",
    "include(\"KernelMultinomial.jl\")"
   ]
  },
  {
   "cell_type": "code",
   "execution_count": null,
   "id": "ce81c7e3",
   "metadata": {},
   "outputs": [],
   "source": [
    "p = 50\n",
    "n = 16384\n",
    "covM = ones(p,p)\n",
    "for i in 1:p\n",
    "    for j in 1:p\n",
    "        covM[i,j] = 0.5^abs(i-j)\n",
    "    end\n",
    "end\n",
    "d = MvNormal(zeros(p), covM)\n",
    "X = Matrix(Transpose(rand(d,n)))\n",
    "ηs = -4 .+ sin.(X[:,1]).+ X[:,2] .* X[:, 3] .+  .+ X[:,4].^3 .- abs.(X[:,5]) .+0.1*vec(mapslices(norm, X[:,6:p]; dims=2).^2)\n",
    "σ = 15\n",
    "K = rbf_kernel(X,σ)"
   ]
  },
  {
   "cell_type": "code",
   "execution_count": null,
   "id": "da325f5e",
   "metadata": {},
   "outputs": [],
   "source": [
    "d2 = TDist(1.5)\n",
    "y =  ηs .+ rand(d2, n)\n",
    "m = 2048\n",
    "G = generate_nystrom_G(n,m)\n",
    "@time β1,objs1,grad_norms1, times1 = kernel_quantile(y,K,G,0.5,0.0001,h=0.25,verbose=true)\n",
    "@time β2,objs2,grad_norms2, times2 = kernel_quantile_fista(y,K,G,0.5,0.0001,h=0.25,verbose=false)\n",
    "@time β3,objs3,grad_norms3, times3 = kernel_quantile_adagd(y,K,G,0.5,0.0001,h=0.25,verbose=false)\n",
    "@time β4,objs4,grad_norms4, times4 = kernel_quantile_newton(y,K,G,0.5,0.0001,h=0.25,verbose=true)"
   ]
  },
  {
   "cell_type": "code",
   "execution_count": null,
   "id": "4afe452d-1fba-4d95-91f7-fea1ee0c23b9",
   "metadata": {},
   "outputs": [],
   "source": [
    "times1"
   ]
  },
  {
   "cell_type": "code",
   "execution_count": null,
   "id": "c99513a1",
   "metadata": {},
   "outputs": [],
   "source": [
    "y = zeros(n)\n",
    "for i = 1:n\n",
    "    u = 1/(1+exp(-ηs[i]))\n",
    "    if rand() < u\n",
    "         y[i] = 1.0 \n",
    "    end\n",
    "end"
   ]
  },
  {
   "cell_type": "code",
   "execution_count": null,
   "id": "78d76f61",
   "metadata": {},
   "outputs": [],
   "source": [
    "@time β5,objs5, grad_norms5, times5 = kernel_logistic(y,K,G,0.0001,adaptive=true,verbose=true)\n",
    "@time β6,objs6, grad_norms6, times6 = kernel_logistic_fista(y,K,G,0.0001,verbose=false)\n",
    "@time β7,objs7, grad_norms7, times7 = kernel_logistic_adagd(y,K,G,0.0001,verbose=false)\n",
    "@time β8,objs8, grad_norms8, times8 = kernel_logistic_newton(y,K,G,0.0001,verbose=true)"
   ]
  },
  {
   "cell_type": "code",
   "execution_count": null,
   "id": "506eea52",
   "metadata": {},
   "outputs": [],
   "source": [
    "ηs1 = -4 .+ sin.(X[:,1]).+ X[:,2] .* X[:, 3]  .+ X[:,4].^3 .- abs.(X[:,5]) .+0.1*vec(mapslices(norm, X[:,6:p]; dims=2).^2)\n",
    "ηs2 = 4 .+ cos.(X[:,1]).+ X[:,2] .* X[:, 4]  .+ X[:,5].^3 .- abs.(X[:,3]) .-0.1*vec(mapslices(norm, X[:,6:p]; dims=2).^2)\n",
    "ηs = [ηs1 ηs2]\n",
    "row_sums_buffer = zeros(n)\n",
    "P = zeros(n,3)\n",
    "compute_probs_reduced!(P,ηs, row_sums_buffer)\n",
    "Y = zeros(n,3)\n",
    "for i in 1:n\n",
    "    probs = P[i, :]\n",
    "    d3 = Multinomial(1, probs)\n",
    "    Y[i,:] .= rand(d3)\n",
    "end\n",
    "σ = 20.0\n",
    "K = rbf_kernel(X,σ)\n",
    "X_test = Matrix(Transpose(rand(d,Int(n/4))))\n",
    "ηs1_test = -4 .+ sin.(X_test[:,1]).+ X_test[:,2] .* X_test[:, 3]  .+ X_test[:,4].^3 .- abs.(X_test[:,5]) .+0.1*vec(mapslices(norm, X_test[:,6:p]; dims=2).^2)\n",
    "ηs2_test = 4 .+ cos.(X_test[:,1]).+ X_test[:,2] .* X_test[:, 4]  .+ X_test[:,5].^3 .- abs.(X_test[:,3]) .-0.1*vec(mapslices(norm, X_test[:,6:p]; dims=2).^2)\n",
    "ηs_test = [ηs1_test ηs2_test]\n",
    "P = zeros(Int(n/4),3)\n",
    "compute_probs_reduced!(P,ηs_test, row_sums_buffer)\n",
    "Y_test = zeros(Int(n/4),3)\n",
    "for i in 1:Int(n/4)\n",
    "    probs = P[i, :]\n",
    "    d3 = Multinomial(1, probs)\n",
    "    Y_test[i,:] .= rand(d3)\n",
    "end\n",
    "m = 2048\n",
    "G = generate_nystrom_G(n,m)"
   ]
  },
  {
   "cell_type": "code",
   "execution_count": null,
   "id": "df85fbdd",
   "metadata": {},
   "outputs": [],
   "source": [
    "@time B1, objs9, grad_norms9, times9 = KernelMultinomial(Y,K,G,0.0001,adaptive=true,ϵ=1e-4,verbose=true)\n",
    "@time B2, objs10, grad_norms10, times10 = KernelMultinomial_fista(Y,K,G,0.0001,verbose=false)\n",
    "@time B3, objs11, grad_norms11, times11 = KernelMultinomial_adagd(Y,K,G,0.001,verbose=false)\n",
    "@time B4, objs12, grad_norms12, times12 = KernelMultinomial_newton(Y,K,G,0.0001,ϵ=1e-4,verbose=true)"
   ]
  },
  {
   "cell_type": "code",
   "execution_count": null,
   "id": "1cfd8385",
   "metadata": {},
   "outputs": [],
   "source": [
    "using Plots\n",
    "using Measures\n",
    "plot(layout = (2,3),size=(1200,800), margin=5mm)\n",
    "#plot!(1:length(objs1[1:1000]), log.(objs1[1:1000]), label = \"MM Fixed\", xlabel = \"Iteration\", ylabel = \"Objective (log scale)\", title = \"Quantile Regression\",subplot=1,color=\"orange\",markerstrokecolor=:orange)\n",
    "plot!(1:length(objs1), log.(objs1), label = \"QMME\", xlabel = \"Iteration\", ylabel = \"Objective (log scale)\", title = \"Quantile Regression\",subplot=1,color=\"red\",markerstrokecolor=:red)\n",
    "plot!(1:length(objs2[1:1000]), log.(objs2[1:1000]), label = \"FISTA\", xlabel = \"Iteration\", ylabel = \"Objective (log scale)\", title = \"Quantile Regression\",subplot=1,color=\"blue\",markerstrokecolor=:blue)\n",
    "plot!(1:length(objs3[1:1000]), log.(objs3[1:1000]), label = \"Adaptive GD\", xlabel = \"Iteration\", ylabel = \"Objective (log scale)\", title = \"Quantile Regression\",subplot=1,color=\"green\",markerstrokecolor=:green)\n",
    "plot!(1:length(objs4), log.(objs4), label = \"Newton\", xlabel = \"Iteration\", ylabel = \"Objective (log scale)\", title = \"Quantile Regression\",subplot=1,color=\"purple\",markerstrokecolor=:purple,legend=:right)\n",
    "#plot!(times1, log.(objs1), label = \"MM Fixed\", xlabel = \"Time (seconds)\", ylabel = \"Objective (log scale)\", subplot=4,color=\"orange\",markerstrokecolor=:orange)\n",
    "plot!(times1, log.(objs1), label = \"QMME\", xlabel = \"Time (seconds)\", ylabel = \"Objective (log scale)\", subplot=4,color=\"red\",markerstrokecolor=:red)\n",
    "plot!(times2, log.(objs2), label = \"FISTA\", xlabel = \"Time (seconds)\", ylabel = \"Objective (log scale)\", subplot=4,color=\"blue\",markerstrokecolor=:blue)\n",
    "plot!(times3, log.(objs3), label = \"Adaptive GD\", xlabel = \"Time (seconds)\", ylabel = \"Objective (log scale)\", subplot=4,color=\"green\",markerstrokecolor=:green,)\n",
    "plot!(times4, log.(objs4), label = \"Newton\", xlabel = \"Time (seconds)\", ylabel = \"Objective (log scale)\", subplot=4,color=\"purple\",markerstrokecolor=:purple,legend=:none)\n",
    "#plot!(1:length(objs6), log.(objs6), label = \"MM Fixed\", xlabel = \"Iteration\", title = \"Logistic Regression\",subplot=2,color=\"orange\",markerstrokecolor=:orange)\n",
    "plot!(1:length(objs5), log.(objs5), label = \"QMME\", xlabel = \"Iteration\", title = \"Logistic Regression\",subplot=2,color=\"red\",markerstrokecolor=:red)\n",
    "plot!(1:length(objs6[1:1000]), log.(objs6[1:1000]), label = \"FISTA\", xlabel = \"Iteration\", title = \"Logistic Regression\",subplot=2,color=\"blue\",markerstrokecolor=:blue)\n",
    "plot!(1:length(objs7[1:1000]), log.(objs7[1:1000]), label = \"Adaptive GD\", xlabel = \"Iteration\", title = \"Logistic Regression\",subplot=2,color=\"green\",markerstrokecolor=:green)\n",
    "plot!(1:length(objs8), log.(objs8), label = \"Newton\", xlabel = \"Iteration\", title = \"Logistic Regression\",subplot=2,color=\"purple\",markerstrokecolor=:purple,legend=:none)\n",
    "#plot!(times6, log.(objs6), label = \"MM Fixed\", xlabel = \"Time (seconds)\",subplot=5,color=\"orange\",markerstrokecolor=:orange)\n",
    "plot!(times5, log.(objs5), label = \"QMME\", xlabel = \"Time (seconds)\", subplot=5,color=\"red\",markerstrokecolor=:red)\n",
    "plot!(times6, log.(objs6), label = \"FISTA\", xlabel = \"Time (seconds)\",subplot=5,color=\"blue\",markerstrokecolor=:blue)\n",
    "plot!(times7, log.(objs7), label = \"Adaptive GD\", xlabel = \"Time (seconds)\", subplot=5,color=\"green\",markerstrokecolor=:green,)\n",
    "plot!(times8, log.(objs8), label = \"Newton\", xlabel = \"Time (seconds)\", subplot=5,color=\"purple\",markerstrokecolor=:purple,legend=:none)\n",
    "#plot!(1:length(objs11[1:1000]), log.(objs11[1:1000]), label = \"MM Fixed\", xlabel = \"Iteration\", title = \"Multinomial Regression\",subplot=3,color=\"orange\",markerstrokecolor=:orange)\n",
    "plot!(1:length(objs9), log.(objs9), label = \"QMME\", xlabel = \"Iteration\", title = \"Multinomial Regression\",subplot=3,color=\"red\",markerstrokecolor=:red)\n",
    "plot!(1:length(objs10[1:1000]), log.(objs10[1:1000]), label = \"FISTA\", xlabel = \"Iteration\", title = \"Multinomial Regression\",subplot=3,color=\"blue\",markerstrokecolor=:blue)\n",
    "plot!(1:length(objs11[1:1000]), log.(objs11[1:1000]), label = \"Adaptive GD\", xlabel = \"Iteration\", title = \"Multinomial Regression\",subplot=3,color=\"green\",markerstrokecolor=:green)\n",
    "plot!(1:length(objs12), log.(objs12), label = \"Newton\", xlabel = \"Iteration\", title = \"Multinomial Regression\",subplot=3,color=\"purple\",markerstrokecolor=:purple,legend=:none)\n",
    "#plot!(times11, log.(objs11), label = \"MM Fixed\", xlabel = \"Time (seconds)\",subplot=6,color=\"orange\",markerstrokecolor=:orange)\n",
    "plot!(times9, log.(objs9), label = \"QMME\", xlabel = \"Time (seconds)\", subplot=6,color=\"red\",markerstrokecolor=:red)\n",
    "plot!(times10, log.(objs10), label = \"FISTA\", xlabel = \"Time (seconds)\",subplot=6,color=\"blue\",markerstrokecolor=:blue)\n",
    "plot!(times11, log.(objs11), label = \"Adaptive GD\", xlabel = \"Time (seconds)\", subplot=6,color=\"green\",markerstrokecolor=:green,legend=:none)\n",
    "plot!(times12, log.(objs12), label = \"Newton\", xlabel = \"Time (seconds)\", subplot=6,color=\"purple\",markerstrokecolor=:purple,legend=:none)\n",
    "savefig(\"ObjTraj.pdf\")"
   ]
  },
  {
   "cell_type": "code",
   "execution_count": null,
   "id": "8008de27",
   "metadata": {},
   "outputs": [],
   "source": [
    "plot(layout = (2,3),size=(1200,800), margin=5mm)\n",
    "plot(layout = (2,3),size=(1200,800), margin=5mm)\n",
    "#plot!(1:length(objs1[1:1000]), log.(grad_norms1[1:1000]), label = \"MM Fixed\", xlabel = \"Iteration\", ylabel = \"Gradient Norm (log scale)\", title = \"Quantile Regression\",subplot=1,color=\"orange\",markerstrokecolor=:orange)\n",
    "plot!(1:length(objs1), log.(grad_norms1), label = \"QMME\", xlabel = \"Iteration\", ylabel = \"Gradient Norm (log scale)\", title = \"Quantile Regression\",subplot=1,color=\"red\",markerstrokecolor=:red)\n",
    "plot!(1:length(objs2[1:1000]), log.(grad_norms2[1:1000]), label = \"FISTA\", xlabel = \"Iteration\", ylabel = \"Gradient Norm (log scale)\", title = \"Quantile Regression\",subplot=1,color=\"blue\",markerstrokecolor=:blue)\n",
    "plot!(1:length(objs3[1:1000]), log.(grad_norms3[1:1000]), label = \"Adaptive GD\", xlabel = \"Iteration\", ylabel = \"Gradient Norm (log scale)\", title = \"Quantile Regression\",subplot=1,color=\"green\",markerstrokecolor=:green)\n",
    "plot!(1:length(objs4), log.(grad_norms4), label = \"Newton\", xlabel = \"Iteration\", ylabel = \"Gradient Norm (log scale)\", title = \"Quantile Regression\",subplot=1,color=\"purple\",markerstrokecolor=:purple,legend=:right)\n",
    "#plot!(times1, log.(grad_norms1), label = \"MM Fixed\", xlabel = \"Time (seconds)\", ylabel = \"Gradient Norm (log scale)\", subplot=4,color=\"orange\",markerstrokecolor=:orange)\n",
    "plot!(times1, log.(grad_norms1), label = \"MM Adaptive\", xlabel = \"Time (seconds)\", ylabel = \"Gradient Norm (log scale)\", subplot=4,color=\"red\",markerstrokecolor=:red)\n",
    "plot!(times2, log.(grad_norms2), label = \"FISTA\", xlabel = \"Time (seconds)\", ylabel = \"Gradient Norm (log scale)\", subplot=4,color=\"blue\",markerstrokecolor=:blue)\n",
    "plot!(times3, log.(grad_norms3), label = \"Adaptive GD\", xlabel = \"Time (seconds)\", ylabel = \"Gradient Norm (log scale)\", subplot=4,color=\"green\",markerstrokecolor=:green,)\n",
    "plot!(times4, log.(grad_norms4), label = \"Newton\", xlabel = \"Time (seconds)\", ylabel = \"Gradient Norm (log scale)\", subplot=4,color=\"purple\",markerstrokecolor=:purple,legend=:none)\n",
    "#plot!(1:length(objs6), log.(grad_norms6), label = \"MM Fixed\", xlabel = \"Iteration\", title = \"Logistic Regression\",subplot=2,color=\"orange\",markerstrokecolor=:orange)\n",
    "plot!(1:length(objs5), log.(grad_norms5), label = \"QMME\", xlabel = \"Iteration\", title = \"Logistic Regression\",subplot=2,color=\"red\",markerstrokecolor=:red)\n",
    "plot!(1:length(objs6[1:1000]), log.(grad_norms6[1:1000]), label = \"FISTA\", xlabel = \"Iteration\", title = \"Logistic Regression\",subplot=2,color=\"blue\",markerstrokecolor=:blue)\n",
    "plot!(1:length(objs7[1:1000]), log.(grad_norms7[1:1000]), label = \"Adaptive GD\", xlabel = \"Iteration\", title = \"Logistic Regression\",subplot=2,color=\"green\",markerstrokecolor=:green)\n",
    "plot!(1:length(objs8), log.(grad_norms8), label = \"Newton\", xlabel = \"Iteration\", title = \"Logistic Regression\",subplot=2,color=\"purple\",markerstrokecolor=:purple,legend=:none)\n",
    "#plot!(times6, log.(grad_norms6), label = \"MM Fixed\", xlabel = \"Time (seconds)\",subplot=5,color=\"orange\",markerstrokecolor=:orange)\n",
    "plot!(times5, log.(grad_norms5), label = \"QMME\", xlabel = \"Time (seconds)\", subplot=5,color=\"red\",markerstrokecolor=:red)\n",
    "plot!(times6, log.(grad_norms6), label = \"FISTA\", xlabel = \"Time (seconds)\",subplot=5,color=\"blue\",markerstrokecolor=:blue)\n",
    "plot!(times7, log.(grad_norms7), label = \"Adaptive GD\", xlabel = \"Time (seconds)\", subplot=5,color=\"green\",markerstrokecolor=:green,)\n",
    "plot!(times8, log.(grad_norms8), label = \"Newton\", xlabel = \"Time (seconds)\", subplot=5,color=\"purple\",markerstrokecolor=:purple,legend=:none)\n",
    "#plot!(1:length(objs11[1:1000]), log.(grad_norms11[1:1000]), label = \"MM Fixed\", xlabel = \"Iteration\", title = \"Multinomial Regression\",subplot=3,color=\"orange\",markerstrokecolor=:orange)\n",
    "plot!(1:length(objs9), log.(grad_norms9), label = \"MM Adaptive\", xlabel = \"Iteration\", title = \"Multinomial Regression\",subplot=3,color=\"red\",markerstrokecolor=:red)\n",
    "plot!(1:length(objs10[1:1000]), log.(grad_norms10[1:1000]), label = \"FISTA\", xlabel = \"Iteration\", title = \"Multinomial Regression\",subplot=3,color=\"blue\",markerstrokecolor=:blue)\n",
    "plot!(1:length(objs11[1:1000]), log.(grad_norms11[1:1000]), label = \"Adaptive GD\", xlabel = \"Iteration\", title = \"Multinomial Regression\",subplot=3,color=\"green\",markerstrokecolor=:green)\n",
    "plot!(1:length(objs12), log.(grad_norms12), label = \"Newton\", xlabel = \"Iteration\", title = \"Multinomial Regression\",subplot=3,color=\"purple\",markerstrokecolor=:purple,legend=:none)\n",
    "#plot!(times11, log.(grad_norms11), label = \"MM Fixed\", xlabel = \"Time (seconds)\",subplot=6,color=\"orange\",markerstrokecolor=:orange)\n",
    "plot!(times9, log.(grad_norms9), label = \"QMME\", xlabel = \"Time (seconds)\", subplot=6,color=\"red\",markerstrokecolor=:red)\n",
    "plot!(times10, log.(grad_norms10), label = \"FISTA\", xlabel = \"Time (seconds)\",subplot=6,color=\"blue\",markerstrokecolor=:blue)\n",
    "plot!(times11, log.(grad_norms11), label = \"Adaptive GD\", xlabel = \"Time (seconds)\", subplot=6,color=\"green\",markerstrokecolor=:green,legend=:none)\n",
    "plot!(times12, log.(grad_norms12), label = \"Newton\", xlabel = \"Time (seconds)\", subplot=6,color=\"purple\",markerstrokecolor=:purple,legend=:none,xlims = (0, 30))\n",
    "savefig(\"GradNormTraj.pdf\")"
   ]
  }
 ],
 "metadata": {
  "kernelspec": {
   "display_name": "Julia 1.11.5",
   "language": "julia",
   "name": "julia-1.11"
  },
  "language_info": {
   "file_extension": ".jl",
   "mimetype": "application/julia",
   "name": "julia",
   "version": "1.11.5"
  }
 },
 "nbformat": 4,
 "nbformat_minor": 5
}
